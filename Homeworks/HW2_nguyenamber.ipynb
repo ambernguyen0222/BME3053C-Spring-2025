{
  "nbformat": 4,
  "nbformat_minor": 0,
  "metadata": {
    "colab": {
      "provenance": [],
      "authorship_tag": "ABX9TyPpaZ+T18t3/GstASlOyuYp",
      "include_colab_link": true
    },
    "kernelspec": {
      "name": "python3",
      "display_name": "Python 3"
    },
    "language_info": {
      "name": "python"
    }
  },
  "cells": [
    {
      "cell_type": "markdown",
      "metadata": {
        "id": "view-in-github",
        "colab_type": "text"
      },
      "source": [
        "<a href=\"https://colab.research.google.com/github/ambernguyen0222/BME3053C-Spring-2025/blob/main/Homeworks/HW2_nguyenamber.ipynb\" target=\"_parent\"><img src=\"https://colab.research.google.com/assets/colab-badge.svg\" alt=\"Open In Colab\"/></a>"
      ]
    },
    {
      "cell_type": "code",
      "execution_count": 6,
      "metadata": {
        "id": "FzZEn0k1pHxP",
        "colab": {
          "base_uri": "https://localhost:8080/"
        },
        "outputId": "dfe4b99d-062f-4b41-f2ca-ccc089a82add"
      },
      "outputs": [
        {
          "output_type": "stream",
          "name": "stdout",
          "text": [
            "Normalized values: [0.0, 0.32075471698113206, 0.5849056603773585, 0.05660377358490566, 0.7924528301886793, 1.0, 0.1320754716981132, 0.6415094339622641]\n"
          ]
        }
      ],
      "source": [
        "bp_readings = [120, 137, 151, 123, 162, 173, 127, 154]\n",
        "\n",
        "def normalize_list(bp_values):\n",
        "\n",
        "  normalized = []\n",
        "\n",
        "  min_value = min(bp_values)\n",
        "  max_value = max(bp_values)\n",
        "\n",
        "  for i in bp_values:\n",
        "    normalized_values = (i-min_value)/(max_value - min_value)\n",
        "    normalized.append(normalized_values)\n",
        "\n",
        "  return normalized\n",
        "\n",
        "print('Normalized values:', normalize_list(bp_readings))"
      ]
    }
  ]
}