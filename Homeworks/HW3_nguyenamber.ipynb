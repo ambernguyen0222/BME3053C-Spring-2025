{
  "nbformat": 4,
  "nbformat_minor": 0,
  "metadata": {
    "colab": {
      "provenance": [],
      "authorship_tag": "ABX9TyON56iwm/Ri/VSl7XK2swts",
      "include_colab_link": true
    },
    "kernelspec": {
      "name": "python3",
      "display_name": "Python 3"
    },
    "language_info": {
      "name": "python"
    }
  },
  "cells": [
    {
      "cell_type": "markdown",
      "metadata": {
        "id": "view-in-github",
        "colab_type": "text"
      },
      "source": [
        "<a href=\"https://colab.research.google.com/github/ambernguyen0222/BME3053C-Spring-2025/blob/main/Homeworks/HW3_nguyenamber.ipynb\" target=\"_parent\"><img src=\"https://colab.research.google.com/assets/colab-badge.svg\" alt=\"Open In Colab\"/></a>"
      ]
    },
    {
      "cell_type": "code",
      "execution_count": null,
      "metadata": {
        "colab": {
          "base_uri": "https://localhost:8080/"
        },
        "id": "IYqqhyBiOkRP",
        "outputId": "20522de6-6544-4087-dcfe-b65e4947e3f0"
      },
      "outputs": [
        {
          "output_type": "stream",
          "name": "stdout",
          "text": [
            "Number of peaks:  30\n"
          ]
        }
      ],
      "source": [
        "import math\n",
        "import random\n",
        "\n",
        "ppg_signal = [1000 + 100 * math.sin(0.1 * x) + random.randint(-20, 20) for x in range(100)]\n",
        "\n",
        "def peak_counter(ppg_values):\n",
        "  peak_count=0\n",
        "  for i in range(1,len(ppg_values)-1):\n",
        "    if (ppg_values[i] > ppg_values[i - 1]) and (ppg_values[i] > ppg_values[i + 1]):\n",
        "      peak_count += 1\n",
        "  return peak_count\n",
        "\n",
        "amount_peaks = peak_counter(ppg_signal)\n",
        "print('Number of peaks: ', amount_peaks)"
      ]
    }
  ]
}